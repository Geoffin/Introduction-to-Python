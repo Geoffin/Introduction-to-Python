{
  "nbformat": 4,
  "nbformat_minor": 0,
  "metadata": {
    "colab": {
      "provenance": [],
      "authorship_tag": "ABX9TyPW0k2ZZRwVXZpiZMTrIKQe",
      "include_colab_link": true
    },
    "kernelspec": {
      "name": "python3",
      "display_name": "Python 3"
    },
    "language_info": {
      "name": "python"
    }
  },
  "cells": [
    {
      "cell_type": "markdown",
      "metadata": {
        "id": "view-in-github",
        "colab_type": "text"
      },
      "source": [
        "<a href=\"https://colab.research.google.com/github/Geoffin/Introduction-to-Python/blob/main/01_Basics.ipynb\" target=\"_parent\"><img src=\"https://colab.research.google.com/assets/colab-badge.svg\" alt=\"Open In Colab\"/></a>"
      ]
    },
    {
      "cell_type": "code",
      "execution_count": 1,
      "metadata": {
        "colab": {
          "base_uri": "https://localhost:8080/"
        },
        "id": "pof6Ry8bf9f4",
        "outputId": "f471c74c-b1b8-4991-8da5-58f9500fb88c"
      },
      "outputs": [
        {
          "output_type": "execute_result",
          "data": {
            "text/plain": [
              "45"
            ]
          },
          "metadata": {},
          "execution_count": 1
        }
      ],
      "source": [
        "30+15"
      ]
    },
    {
      "cell_type": "code",
      "source": [
        "30*15"
      ],
      "metadata": {
        "colab": {
          "base_uri": "https://localhost:8080/"
        },
        "id": "9urtMPgLhXQf",
        "outputId": "ed3c8cc7-88e9-44d4-fad6-c7cf299e7c68"
      },
      "execution_count": 2,
      "outputs": [
        {
          "output_type": "execute_result",
          "data": {
            "text/plain": [
              "450"
            ]
          },
          "metadata": {},
          "execution_count": 2
        }
      ]
    },
    {
      "cell_type": "code",
      "source": [
        "x=10"
      ],
      "metadata": {
        "id": "Wk76b6p-hxll"
      },
      "execution_count": 3,
      "outputs": []
    },
    {
      "cell_type": "code",
      "source": [
        "print(x)"
      ],
      "metadata": {
        "colab": {
          "base_uri": "https://localhost:8080/"
        },
        "id": "CmuwIU_3iOss",
        "outputId": "f8923f23-4608-4058-bd1c-5cd8db31d345"
      },
      "execution_count": 4,
      "outputs": [
        {
          "output_type": "stream",
          "name": "stdout",
          "text": [
            "10\n"
          ]
        }
      ]
    },
    {
      "cell_type": "code",
      "source": [
        "x=10\n",
        "y=20\n",
        "print(x,y)"
      ],
      "metadata": {
        "colab": {
          "base_uri": "https://localhost:8080/"
        },
        "id": "GqMFVfJViZAE",
        "outputId": "c58bbb47-34f8-427f-d39b-130810767157"
      },
      "execution_count": 5,
      "outputs": [
        {
          "output_type": "stream",
          "name": "stdout",
          "text": [
            "10 20\n"
          ]
        }
      ]
    },
    {
      "cell_type": "code",
      "source": [
        "x=10\n",
        "y=20\n",
        "print(x+y)\n",
        "print(x-y)\n",
        "print(x/y)\n",
        "print(x*y)\n"
      ],
      "metadata": {
        "colab": {
          "base_uri": "https://localhost:8080/"
        },
        "id": "6gmnao_Xi_aJ",
        "outputId": "781cb405-d796-449f-b2dd-d9e39750a7fe"
      },
      "execution_count": 6,
      "outputs": [
        {
          "output_type": "stream",
          "name": "stdout",
          "text": [
            "30\n",
            "-10\n",
            "0.5\n",
            "200\n"
          ]
        }
      ]
    },
    {
      "cell_type": "code",
      "source": [
        "x='Geoffin Sajan'\n"
      ],
      "metadata": {
        "id": "Y6QfQzLZjvJ2"
      },
      "execution_count": 7,
      "outputs": []
    },
    {
      "cell_type": "code",
      "source": [
        "print(x)"
      ],
      "metadata": {
        "colab": {
          "base_uri": "https://localhost:8080/"
        },
        "id": "JO9RNwu5kbs8",
        "outputId": "ca42dab1-94f8-4112-bbfb-a747c0270278"
      },
      "execution_count": 8,
      "outputs": [
        {
          "output_type": "stream",
          "name": "stdout",
          "text": [
            "Geoffin Sajan\n"
          ]
        }
      ]
    },
    {
      "cell_type": "code",
      "source": [
        "print(x)"
      ],
      "metadata": {
        "colab": {
          "base_uri": "https://localhost:8080/"
        },
        "id": "a3iXkwO0km7C",
        "outputId": "4b223ddd-b4f3-40c1-b462-befcb3b42c04"
      },
      "execution_count": 9,
      "outputs": [
        {
          "output_type": "stream",
          "name": "stdout",
          "text": [
            "Geoffin Sajan\n"
          ]
        }
      ]
    },
    {
      "cell_type": "code",
      "source": [
        "print(x[0])\n"
      ],
      "metadata": {
        "colab": {
          "base_uri": "https://localhost:8080/"
        },
        "id": "DO0_3xmikrqd",
        "outputId": "b02c6e70-5b0d-43aa-e381-811d7338bcb0"
      },
      "execution_count": 10,
      "outputs": [
        {
          "output_type": "stream",
          "name": "stdout",
          "text": [
            "G\n"
          ]
        }
      ]
    },
    {
      "cell_type": "code",
      "source": [
        "print(x[6])"
      ],
      "metadata": {
        "colab": {
          "base_uri": "https://localhost:8080/"
        },
        "id": "xKUp7_qXmHlE",
        "outputId": "c2dda3a5-dd52-4606-9281-81e7376e5b56"
      },
      "execution_count": 11,
      "outputs": [
        {
          "output_type": "stream",
          "name": "stdout",
          "text": [
            "n\n"
          ]
        }
      ]
    },
    {
      "cell_type": "code",
      "source": [
        "print(x[-7])"
      ],
      "metadata": {
        "colab": {
          "base_uri": "https://localhost:8080/"
        },
        "id": "9IibwAfqmTGG",
        "outputId": "33493477-258d-42d6-bb47-0b755a195e16"
      },
      "execution_count": 12,
      "outputs": [
        {
          "output_type": "stream",
          "name": "stdout",
          "text": [
            "n\n"
          ]
        }
      ]
    },
    {
      "cell_type": "code",
      "source": [
        "print(x[-13])"
      ],
      "metadata": {
        "colab": {
          "base_uri": "https://localhost:8080/"
        },
        "id": "HdI8arQ0m9ul",
        "outputId": "abe332f8-d380-4a7d-f288-fcaabd338256"
      },
      "execution_count": 13,
      "outputs": [
        {
          "output_type": "stream",
          "name": "stdout",
          "text": [
            "G\n"
          ]
        }
      ]
    },
    {
      "cell_type": "code",
      "source": [
        "print(x[0:8])"
      ],
      "metadata": {
        "colab": {
          "base_uri": "https://localhost:8080/"
        },
        "id": "cMn23-8enI52",
        "outputId": "dbc3ce5e-62f3-42aa-a320-e773823bda47"
      },
      "execution_count": 14,
      "outputs": [
        {
          "output_type": "stream",
          "name": "stdout",
          "text": [
            "Geoffin \n"
          ]
        }
      ]
    },
    {
      "cell_type": "code",
      "source": [
        "print(x[8:14])"
      ],
      "metadata": {
        "colab": {
          "base_uri": "https://localhost:8080/"
        },
        "id": "wqoR-YOVn5kb",
        "outputId": "7c1910fd-d681-423a-abd0-27be9298fd91"
      },
      "execution_count": 15,
      "outputs": [
        {
          "output_type": "stream",
          "name": "stdout",
          "text": [
            "Sajan\n"
          ]
        }
      ]
    },
    {
      "cell_type": "code",
      "source": [
        "print(x[-5:])"
      ],
      "metadata": {
        "colab": {
          "base_uri": "https://localhost:8080/"
        },
        "id": "kub8F7F9oe2X",
        "outputId": "4f7f431e-d5a8-45e9-ba52-b1b5688804be"
      },
      "execution_count": 16,
      "outputs": [
        {
          "output_type": "stream",
          "name": "stdout",
          "text": [
            "Sajan\n"
          ]
        }
      ]
    },
    {
      "cell_type": "code",
      "source": [
        "x=\"Geoffin\"\n",
        "y=\"Sajan\"\n",
        "print(x+y)"
      ],
      "metadata": {
        "colab": {
          "base_uri": "https://localhost:8080/"
        },
        "id": "x6rC4z77pJGI",
        "outputId": "07ff2eb0-4197-4dd2-c1d5-1b43788d47ec"
      },
      "execution_count": 17,
      "outputs": [
        {
          "output_type": "stream",
          "name": "stdout",
          "text": [
            "GeoffinSajan\n"
          ]
        }
      ]
    },
    {
      "cell_type": "code",
      "source": [
        "x+\" \"+y"
      ],
      "metadata": {
        "colab": {
          "base_uri": "https://localhost:8080/",
          "height": 35
        },
        "id": "SvBb280Kte_e",
        "outputId": "f10c6455-f449-44f5-c717-3776a0a70dfb"
      },
      "execution_count": 18,
      "outputs": [
        {
          "output_type": "execute_result",
          "data": {
            "text/plain": [
              "'Geoffin Sajan'"
            ],
            "application/vnd.google.colaboratory.intrinsic+json": {
              "type": "string"
            }
          },
          "metadata": {},
          "execution_count": 18
        }
      ]
    },
    {
      "cell_type": "code",
      "source": [
        "x=\"10\"\n",
        "y=\"20\"\n",
        "print(x+y)"
      ],
      "metadata": {
        "colab": {
          "base_uri": "https://localhost:8080/"
        },
        "id": "TfA77_Katz6c",
        "outputId": "6cac58b3-3501-4c13-dc1e-24454ea8dc21"
      },
      "execution_count": 19,
      "outputs": [
        {
          "output_type": "stream",
          "name": "stdout",
          "text": [
            "1020\n"
          ]
        }
      ]
    },
    {
      "cell_type": "code",
      "source": [
        "x=10\n",
        "print(type(x))"
      ],
      "metadata": {
        "colab": {
          "base_uri": "https://localhost:8080/"
        },
        "id": "jyPpBQWsuUXw",
        "outputId": "73a36b85-68f2-4bfc-8be7-8c2edc8d7a03"
      },
      "execution_count": 20,
      "outputs": [
        {
          "output_type": "stream",
          "name": "stdout",
          "text": [
            "<class 'int'>\n"
          ]
        }
      ]
    },
    {
      "cell_type": "code",
      "source": [
        "x=10.5\n",
        "print(type(x))"
      ],
      "metadata": {
        "colab": {
          "base_uri": "https://localhost:8080/"
        },
        "id": "74v0-3NNvJ5E",
        "outputId": "cd52e2d7-5c87-4d06-c30a-4eb80267cd72"
      },
      "execution_count": 21,
      "outputs": [
        {
          "output_type": "stream",
          "name": "stdout",
          "text": [
            "<class 'float'>\n"
          ]
        }
      ]
    },
    {
      "cell_type": "code",
      "source": [
        "x=input(\"Enter your name:\")\n"
      ],
      "metadata": {
        "colab": {
          "base_uri": "https://localhost:8080/"
        },
        "id": "mmpwBUjMvjdj",
        "outputId": "602d6dd3-30ec-4130-8b8c-d65f1f7d990e"
      },
      "execution_count": 22,
      "outputs": [
        {
          "name": "stdout",
          "output_type": "stream",
          "text": [
            "Enter your name:Geoffin\n"
          ]
        }
      ]
    },
    {
      "cell_type": "code",
      "source": [
        "x=input(\"Enter your marks:\")"
      ],
      "metadata": {
        "colab": {
          "base_uri": "https://localhost:8080/"
        },
        "id": "yE07E5DRvyRK",
        "outputId": "bb2ea30f-5f50-420f-d927-dfcdd6ded738"
      },
      "execution_count": 23,
      "outputs": [
        {
          "name": "stdout",
          "output_type": "stream",
          "text": [
            "Enter your marks:60\n"
          ]
        }
      ]
    },
    {
      "cell_type": "code",
      "source": [
        "x=print(type(x))"
      ],
      "metadata": {
        "colab": {
          "base_uri": "https://localhost:8080/"
        },
        "id": "NMLh8aQOwCqq",
        "outputId": "b916dff6-2442-4da2-88ca-de9bbc77a778"
      },
      "execution_count": 24,
      "outputs": [
        {
          "output_type": "stream",
          "name": "stdout",
          "text": [
            "<class 'str'>\n"
          ]
        }
      ]
    },
    {
      "cell_type": "code",
      "source": [
        "x=int(input(\"Enter your marks:\"))"
      ],
      "metadata": {
        "colab": {
          "base_uri": "https://localhost:8080/"
        },
        "id": "xbYoKwhzwSbz",
        "outputId": "deaa73ea-551d-448d-8571-4c3528e8efdb"
      },
      "execution_count": 25,
      "outputs": [
        {
          "name": "stdout",
          "output_type": "stream",
          "text": [
            "Enter your marks:40\n"
          ]
        }
      ]
    },
    {
      "cell_type": "code",
      "source": [
        "print(type(x))"
      ],
      "metadata": {
        "colab": {
          "base_uri": "https://localhost:8080/"
        },
        "id": "NmaEWA7Fw5gH",
        "outputId": "ba80c012-ca9c-48a4-dafe-b8b09c39260a"
      },
      "execution_count": 26,
      "outputs": [
        {
          "output_type": "stream",
          "name": "stdout",
          "text": [
            "<class 'int'>\n"
          ]
        }
      ]
    },
    {
      "cell_type": "code",
      "source": [
        "x=print(\"Ohm's Law\")\n",
        "y=int(input(\"Current:\"))\n",
        "z=int(input(\"Resistance:\"))\n",
        "print(\"voltage=\", y*z)"
      ],
      "metadata": {
        "colab": {
          "base_uri": "https://localhost:8080/"
        },
        "id": "87bVPOmXxreB",
        "outputId": "a64b293e-7781-4246-a78d-e39809029bc6"
      },
      "execution_count": 27,
      "outputs": [
        {
          "output_type": "stream",
          "name": "stdout",
          "text": [
            "Ohm's Law\n",
            "Current:5\n",
            "Resistance:10\n",
            "voltage= 50\n"
          ]
        }
      ]
    },
    {
      "cell_type": "code",
      "source": [
        "x=int(input(\"Enter your marks:\"))\n",
        "if x>50:\n",
        "  print(\"You are pass\")\n",
        "else:\n",
        "  print(\"You are fail\")\n"
      ],
      "metadata": {
        "colab": {
          "base_uri": "https://localhost:8080/"
        },
        "id": "_tNQs4hjy0UG",
        "outputId": "ca70dc2b-e724-454f-d48a-05bdc7460dbf"
      },
      "execution_count": 28,
      "outputs": [
        {
          "output_type": "stream",
          "name": "stdout",
          "text": [
            "Enter your marks:55\n",
            "You are pass\n"
          ]
        }
      ]
    },
    {
      "cell_type": "code",
      "source": [
        "x=int(input(\"Enter your marks:\"))\n",
        "if x>50:\n",
        "  print(\"You are pass\")\n",
        "if x==50:\n",
        "  print(\"You are just pass\")\n",
        "else:\n",
        "  print(\"You are fail\")"
      ],
      "metadata": {
        "colab": {
          "base_uri": "https://localhost:8080/"
        },
        "id": "swdsLj3V09G7",
        "outputId": "1df54c5e-8a86-4478-d4bd-8c7e4f8ab74c"
      },
      "execution_count": 29,
      "outputs": [
        {
          "output_type": "stream",
          "name": "stdout",
          "text": [
            "Enter your marks:44\n",
            "You are fail\n"
          ]
        }
      ]
    },
    {
      "cell_type": "code",
      "source": [
        "x=int(input(\"Enter your marks:\"))\n",
        "if 0<x<=49:\n",
        "  print(\"Fail\")\n",
        "if 50<=x<=60:\n",
        "  print(\"Second class\")\n",
        "if 61<=x<=80:\n",
        "  print(\"First class\")\n",
        "if 81<=x<=100:\n",
        "  print(\"Distinction\")\n"
      ],
      "metadata": {
        "colab": {
          "base_uri": "https://localhost:8080/"
        },
        "id": "iZna1nhY1Vxv",
        "outputId": "a372b532-a849-4036-e0e7-c54dbc7e2274"
      },
      "execution_count": 30,
      "outputs": [
        {
          "output_type": "stream",
          "name": "stdout",
          "text": [
            "Enter your marks:60\n",
            "Second class\n"
          ]
        }
      ]
    },
    {
      "cell_type": "code",
      "source": [
        "x=int(input(\"Enter your marks:\"))\n",
        "if x>80:\n",
        "  y=int(input(\"Enter your no.of arrears\"))\n",
        "  if y==0:\n",
        "    print(\"You got distinction\")\n",
        "  else:\n",
        "    print(\" You are not eligible for distinction beacause of arrear\")\n"
      ],
      "metadata": {
        "colab": {
          "base_uri": "https://localhost:8080/"
        },
        "id": "sF0ZrsV03IvO",
        "outputId": "9a3c099a-e12c-4100-e88e-29ce24e1169e"
      },
      "execution_count": 31,
      "outputs": [
        {
          "name": "stdout",
          "output_type": "stream",
          "text": [
            "Enter your marks:44\n"
          ]
        }
      ]
    },
    {
      "cell_type": "code",
      "source": [
        "x=int(input(\"Enter the number:\"))\n",
        "if (x%2)==0:\n",
        "  print(\"Number is even\")\n",
        "else:\n",
        "  print(\"number is odd\")\n",
        "\n"
      ],
      "metadata": {
        "colab": {
          "base_uri": "https://localhost:8080/"
        },
        "id": "POCPUkph6NVJ",
        "outputId": "72bca62b-c282-400d-8ebd-9e4e63e0ea9f"
      },
      "execution_count": 32,
      "outputs": [
        {
          "output_type": "stream",
          "name": "stdout",
          "text": [
            "Enter the number:22\n",
            "Number is even\n"
          ]
        }
      ]
    },
    {
      "cell_type": "code",
      "source": [
        "for k in range (10):\n",
        "  if (k%2)==0:\n",
        "    print(k)"
      ],
      "metadata": {
        "colab": {
          "base_uri": "https://localhost:8080/"
        },
        "id": "P8wfoXYTIkSK",
        "outputId": "8bf9c9ff-1a5b-4884-fcc8-8af3a063a83f"
      },
      "execution_count": 33,
      "outputs": [
        {
          "output_type": "stream",
          "name": "stdout",
          "text": [
            "0\n",
            "2\n",
            "4\n",
            "6\n",
            "8\n"
          ]
        }
      ]
    },
    {
      "cell_type": "code",
      "source": [
        "a=0\n",
        "for k in range (11):\n",
        "  a=k+a\n",
        "print(a)"
      ],
      "metadata": {
        "colab": {
          "base_uri": "https://localhost:8080/"
        },
        "id": "1pVII_yYJ00z",
        "outputId": "49b8f583-5a04-4b77-de96-01c36a832e54"
      },
      "execution_count": 34,
      "outputs": [
        {
          "output_type": "stream",
          "name": "stdout",
          "text": [
            "55\n"
          ]
        }
      ]
    },
    {
      "cell_type": "code",
      "source": [
        "a=0\n",
        "for k in range (101):\n",
        "  if (k%2)==0:\n",
        "    a=k+a\n",
        "print(a)"
      ],
      "metadata": {
        "colab": {
          "base_uri": "https://localhost:8080/"
        },
        "id": "R4DeOJ5sL2kw",
        "outputId": "c75221fe-2b88-46d2-c7bd-47c6ce8b635b"
      },
      "execution_count": 35,
      "outputs": [
        {
          "output_type": "stream",
          "name": "stdout",
          "text": [
            "2550\n"
          ]
        }
      ]
    },
    {
      "cell_type": "code",
      "source": [
        "a=1\n",
        "for k in range (1,100):\n",
        "  a=k*a\n",
        "print(a)"
      ],
      "metadata": {
        "colab": {
          "base_uri": "https://localhost:8080/"
        },
        "id": "0dytZftfQrYu",
        "outputId": "981b8a40-705e-4d36-f4ec-50f9111ff49f"
      },
      "execution_count": 36,
      "outputs": [
        {
          "output_type": "stream",
          "name": "stdout",
          "text": [
            "933262154439441526816992388562667004907159682643816214685929638952175999932299156089414639761565182862536979208272237582511852109168640000000000000000000000\n"
          ]
        }
      ]
    },
    {
      "cell_type": "code",
      "source": [
        "for k in range(100):\n",
        "  if k==5:\n",
        "    break;\n",
        "  print(k)"
      ],
      "metadata": {
        "colab": {
          "base_uri": "https://localhost:8080/"
        },
        "id": "_VRhtxYtRRGS",
        "outputId": "f44c5e6c-d88d-4cb5-fad4-c2435bd3d7e2"
      },
      "execution_count": 37,
      "outputs": [
        {
          "output_type": "stream",
          "name": "stdout",
          "text": [
            "0\n",
            "1\n",
            "2\n",
            "3\n",
            "4\n"
          ]
        }
      ]
    },
    {
      "cell_type": "markdown",
      "source": [],
      "metadata": {
        "id": "ppuGNaV1Xe14"
      }
    },
    {
      "cell_type": "code",
      "source": [
        "sum=0\n",
        "for k in range(100):\n",
        "  n=int(input(\"Enter a number:\"))\n",
        "  sum=sum+n\n",
        "  y=int(input(\"Is the number is final?. If it is final press 0. or else press 1\"))\n",
        "  if y==0:\n",
        "    break;\n",
        "print(\"sum=\",sum)"
      ],
      "metadata": {
        "colab": {
          "base_uri": "https://localhost:8080/"
        },
        "id": "hNG9W3bmTegh",
        "outputId": "860f9bab-6ade-4c3f-d88e-97c938e48805"
      },
      "execution_count": 38,
      "outputs": [
        {
          "output_type": "stream",
          "name": "stdout",
          "text": [
            "Enter a number:22\n",
            "Is the number is final?. If it is final press 0. or else press 11\n",
            "Enter a number:22\n",
            "Is the number is final?. If it is final press 0. or else press 10\n",
            "sum= 44\n"
          ]
        }
      ]
    },
    {
      "cell_type": "code",
      "source": [
        "k=0\n",
        "s=0\n",
        "while(k<100):\n",
        "  k=k+1\n",
        "  if(k%2)==0:\n",
        "    s=k+s\n",
        "print(s)\n",
        "  \n"
      ],
      "metadata": {
        "colab": {
          "base_uri": "https://localhost:8080/"
        },
        "id": "90M4b07-YKc5",
        "outputId": "54659f4e-1a4e-4f69-cdeb-88c63ef5bb90"
      },
      "execution_count": 39,
      "outputs": [
        {
          "output_type": "stream",
          "name": "stdout",
          "text": [
            "2550\n"
          ]
        }
      ]
    },
    {
      "cell_type": "code",
      "source": [
        "for x in range(10):\n",
        "  if x==5:\n",
        "    continue;\n",
        "  print(x)"
      ],
      "metadata": {
        "colab": {
          "base_uri": "https://localhost:8080/"
        },
        "id": "S9rLcnx8acp-",
        "outputId": "83b00a60-93c2-4cba-9317-d85008789437"
      },
      "execution_count": 40,
      "outputs": [
        {
          "output_type": "stream",
          "name": "stdout",
          "text": [
            "0\n",
            "1\n",
            "2\n",
            "3\n",
            "4\n",
            "6\n",
            "7\n",
            "8\n",
            "9\n"
          ]
        }
      ]
    },
    {
      "cell_type": "code",
      "source": [
        "for x in range(100):\n",
        "  if (x%2)==1:\n",
        "    continue;\n",
        "  print(x)"
      ],
      "metadata": {
        "colab": {
          "base_uri": "https://localhost:8080/"
        },
        "id": "_p9FLxVCf-U-",
        "outputId": "2d144bd4-9eac-4054-c206-187a728b4fda"
      },
      "execution_count": 41,
      "outputs": [
        {
          "output_type": "stream",
          "name": "stdout",
          "text": [
            "0\n",
            "2\n",
            "4\n",
            "6\n",
            "8\n",
            "10\n",
            "12\n",
            "14\n",
            "16\n",
            "18\n",
            "20\n",
            "22\n",
            "24\n",
            "26\n",
            "28\n",
            "30\n",
            "32\n",
            "34\n",
            "36\n",
            "38\n",
            "40\n",
            "42\n",
            "44\n",
            "46\n",
            "48\n",
            "50\n",
            "52\n",
            "54\n",
            "56\n",
            "58\n",
            "60\n",
            "62\n",
            "64\n",
            "66\n",
            "68\n",
            "70\n",
            "72\n",
            "74\n",
            "76\n",
            "78\n",
            "80\n",
            "82\n",
            "84\n",
            "86\n",
            "88\n",
            "90\n",
            "92\n",
            "94\n",
            "96\n",
            "98\n"
          ]
        }
      ]
    },
    {
      "cell_type": "code",
      "source": [
        "x=[1,2,3,45, \"india\", 23.6]\n",
        "print(x[0])\n",
        "print(x[5])"
      ],
      "metadata": {
        "colab": {
          "base_uri": "https://localhost:8080/"
        },
        "id": "1WFRdeWQg336",
        "outputId": "ddde2133-6ac5-4e65-f9f1-30983633e1bf"
      },
      "execution_count": 42,
      "outputs": [
        {
          "output_type": "stream",
          "name": "stdout",
          "text": [
            "1\n",
            "23.6\n"
          ]
        }
      ]
    },
    {
      "cell_type": "code",
      "source": [
        "x=[1,2,3,45, \"india\", 23.6]\n",
        "print(x[0:3])"
      ],
      "metadata": {
        "colab": {
          "base_uri": "https://localhost:8080/"
        },
        "id": "fRu3jmyflpFB",
        "outputId": "2cdab894-2456-4aea-efa3-9713c581fe12"
      },
      "execution_count": 43,
      "outputs": [
        {
          "output_type": "stream",
          "name": "stdout",
          "text": [
            "[1, 2, 3]\n"
          ]
        }
      ]
    },
    {
      "cell_type": "code",
      "source": [
        "x=[1,2,3,45, \"india\", 23.6]\n",
        "print(x[-3 : -1])"
      ],
      "metadata": {
        "colab": {
          "base_uri": "https://localhost:8080/"
        },
        "id": "gVUUIE84mwOp",
        "outputId": "55eea58f-50d0-4138-d83e-b251c8ade4b7"
      },
      "execution_count": 44,
      "outputs": [
        {
          "output_type": "stream",
          "name": "stdout",
          "text": [
            "[45, 'india']\n"
          ]
        }
      ]
    },
    {
      "cell_type": "code",
      "source": [
        "x=[1,2,3,45, \"india\", 23.6]\n",
        "print(x[-3 :])\n"
      ],
      "metadata": {
        "colab": {
          "base_uri": "https://localhost:8080/"
        },
        "id": "U58a3mqNngpD",
        "outputId": "1bd67e60-3812-4e66-b2ac-b389668dd5c2"
      },
      "execution_count": 45,
      "outputs": [
        {
          "output_type": "stream",
          "name": "stdout",
          "text": [
            "[45, 'india', 23.6]\n"
          ]
        }
      ]
    },
    {
      "cell_type": "code",
      "source": [
        "x=[1,2,3,45, \"india\", 23.6]\n",
        "x.append(\"geoffin\")\n",
        "print (x)\n"
      ],
      "metadata": {
        "colab": {
          "base_uri": "https://localhost:8080/"
        },
        "id": "0smaGkCUn80I",
        "outputId": "1738d254-2573-4815-cda8-731d37a2e7b2"
      },
      "execution_count": 46,
      "outputs": [
        {
          "output_type": "stream",
          "name": "stdout",
          "text": [
            "[1, 2, 3, 45, 'india', 23.6, 'geoffin']\n"
          ]
        }
      ]
    },
    {
      "cell_type": "code",
      "source": [
        "x=[1,2,3,45, \"india\", 23.6]\n",
        "x.insert(1,\"geoffin\")\n",
        "print(x)"
      ],
      "metadata": {
        "colab": {
          "base_uri": "https://localhost:8080/"
        },
        "id": "Z277wccPoro2",
        "outputId": "2ee67d22-7714-45e0-9ae2-f2250c4f178a"
      },
      "execution_count": 47,
      "outputs": [
        {
          "output_type": "stream",
          "name": "stdout",
          "text": [
            "[1, 'geoffin', 2, 3, 45, 'india', 23.6]\n"
          ]
        }
      ]
    },
    {
      "cell_type": "code",
      "source": [
        "x=[1,2,3,45, \"india\", 23.6]\n",
        "x.insert(1,\"geoffin\")\n",
        "x[2]=\"mayan\"\n",
        "print(x)"
      ],
      "metadata": {
        "colab": {
          "base_uri": "https://localhost:8080/"
        },
        "id": "wGJMLARappJ6",
        "outputId": "829a8877-7f0e-49cd-f5b8-ec1b3e19a47f"
      },
      "execution_count": 48,
      "outputs": [
        {
          "output_type": "stream",
          "name": "stdout",
          "text": [
            "[1, 'geoffin', 'mayan', 3, 45, 'india', 23.6]\n"
          ]
        }
      ]
    },
    {
      "cell_type": "code",
      "source": [
        "x=[1,2,3,45, \"india\", 23.6]\n",
        "x.insert(1,\"geoffin\")\n",
        "a=x[0]\n",
        "x[0]=x[6]\n",
        "x[6]=a\n",
        "print(x)"
      ],
      "metadata": {
        "colab": {
          "base_uri": "https://localhost:8080/"
        },
        "id": "EIpdB0xMqNwX",
        "outputId": "70f998b7-902e-43ef-adeb-87c9853b3db7"
      },
      "execution_count": 49,
      "outputs": [
        {
          "output_type": "stream",
          "name": "stdout",
          "text": [
            "[23.6, 'geoffin', 2, 3, 45, 'india', 1]\n"
          ]
        }
      ]
    },
    {
      "cell_type": "code",
      "source": [],
      "metadata": {
        "id": "sEn05vdXrT3u"
      },
      "execution_count": 49,
      "outputs": []
    }
  ]
}